{
 "cells": [
  {
   "cell_type": "code",
   "execution_count": 1,
   "id": "32ed7c6a",
   "metadata": {},
   "outputs": [],
   "source": [
    "# Import the necessary libraries\n",
    "import warnings\n",
    "import openai\n",
    "import os\n",
    "import pandas as pd\n",
    "import numpy as np\n",
    "\n",
    "# Ignore warnings related to deprecated features\n",
    "warnings.filterwarnings(\"ignore\", category=DeprecationWarning)"
   ]
  },
  {
   "cell_type": "code",
   "execution_count": 2,
   "id": "222024f8",
   "metadata": {},
   "outputs": [],
   "source": [
    "# Get the API key and resource endpoint from environment variables\n",
    "API_KEY = os.getenv(\"AZURE_OPENAI_API_KEY\") \n",
    "RESOURCE_ENDPOINT = os.getenv(\"AZURE_OPENAI_ENDPOINT\") \n",
    "\n",
    "# Set the API type and key in the openai library\n",
    "openai.api_type = \"azure\"\n",
    "openai.api_key = API_KEY\n",
    "openai.api_base = RESOURCE_ENDPOINT\n",
    "openai.api_version = \"2022-12-01\""
   ]
  },
  {
   "cell_type": "markdown",
   "id": "1741d693",
   "metadata": {},
   "source": [
    "Possible parameters in a Completition request:"
   ]
  },
  {
   "cell_type": "markdown",
   "id": "9843f279",
   "metadata": {},
   "source": [
    "#### model string required\n",
    "\n",
    "ID of the model to use. You can use the List models API to see all of your available models, or see our Model overview for descriptions of them.\n",
    "\n",
    "#### prompt (string or array) Optional\n",
    "Defaults to <|endoftext|>\n",
    "\n",
    "The prompt(s) to generate completions for, encoded as a string, array of strings, array of tokens, or array of token arrays.\n",
    "\n",
    "Note that <|endoftext|> is the document separator that the model sees during training, so if a prompt is not specified the model will generate as if from the beginning of a new document.\n",
    "\n",
    "#### temperature (number) Optional\n",
    "Defaults to 1\n",
    "\n",
    "What sampling temperature to use, between 0 and 2. Higher values like 0.8 will make the output more random, while lower values like 0.2 will make it more focused and deterministic.\n",
    "\n",
    "We generally recommend altering this or top_p but not both.\n",
    "\n",
    "#### max_tokens (integer) Optional\n",
    "Defaults to 16\n",
    "\n",
    "The maximum number of tokens to generate in the completion.\n",
    "\n",
    "The token count of your prompt plus max_tokens cannot exceed the model's context length. Most models have a context length of 2048 tokens (except for the newest models, which support 4096).\n",
    "\n",
    "#### stop (string or array) Optional\n",
    "Defaults to null\n",
    "\n",
    "Up to 4 sequences where the API will stop generating further tokens. The returned text will not contain the stop sequence.\n",
    "\n",
    "#### n (integer) Optional\n",
    "Defaults to 1\n",
    "\n",
    "How many completions to generate for each prompt.\n",
    "\n",
    "Note: Because this parameter generates many completions, it can quickly consume your token quota. Use carefully and ensure that you have reasonable settings for max_tokens and stop.\n",
    "\n",
    "#### suffix (string) Optional\n",
    "Defaults to null\n",
    "\n",
    "The suffix that comes after a completion of inserted text.\n",
    "\n",
    "#### top_p (number) Optional\n",
    "Defaults to 1\n",
    "\n",
    "An alternative to sampling with temperature, called nucleus sampling, where the model considers the results of the tokens with top_p probability mass. So 0.1 means only the tokens comprising the top 10% probability mass are considered.\n",
    "\n",
    "We generally recommend altering this or temperature but not both.\n",
    "\n",
    "#### stream (boolean) Optional\n",
    "Defaults to false\n",
    "\n",
    "Whether to stream back partial progress. If set, tokens will be sent as data-only server-sent events as they become available, with the stream terminated by a data: [DONE] message.\n",
    "\n",
    "#### logprobs (integer) Optional\n",
    "Defaults to null\n",
    "\n",
    "Include the log probabilities on the logprobs most likely tokens, as well the chosen tokens. For example, if logprobs is 5, the API will return a list of the 5 most likely tokens. The API will always return the logprob of the sampled token, so there may be up to logprobs+1 elements in the response.\n",
    "\n",
    "The maximum value for logprobs is 5. If you need more than this, please contact us through our Help center and describe your use case.\n",
    "\n",
    "#### echo (boolean) Optional\n",
    "Defaults to false\n",
    "\n",
    "Echo back the prompt in addition to the completion\n",
    "\n",
    "#### presence_penalty (number) Optional\n",
    "Defaults to 0\n",
    "\n",
    "Number between -2.0 and 2.0. Positive values penalize new tokens based on whether they appear in the text so far, increasing the model's likelihood to talk about new topics.\n",
    "\n",
    "See more information about frequency and presence penalties.\n",
    "\n",
    "#### frequency_penalty (number) Optional\n",
    "Defaults to 0\n",
    "\n",
    "Number between -2.0 and 2.0. Positive values penalize new tokens based on their existing frequency in the text so far, decreasing the model's likelihood to repeat the same line verbatim.\n",
    "\n",
    "See more information about frequency and presence penalties.\n",
    "\n",
    "#### best_of (integer) Optional\n",
    "Defaults to 1\n",
    "\n",
    "Generates best_of completions server-side and returns the \"best\" (the one with the highest log probability per token). Results cannot be streamed.\n",
    "\n",
    "When used with n, best_of controls the number of candidate completions and n specifies how many to return – best_of must be greater than n.\n",
    "\n",
    "Note: Because this parameter generates many completions, it can quickly consume your token quota. Use carefully and ensure that you have reasonable settings for max_tokens and stop.\n",
    "\n",
    "#### logit_bias (map) Optional\n",
    "Defaults to null\n",
    "\n",
    "Modify the likelihood of specified tokens appearing in the completion.\n",
    "\n",
    "Accepts a json object that maps tokens (specified by their token ID in the GPT tokenizer) to an associated bias value from -100 to 100. You can use this tokenizer tool (which works for both GPT-2 and GPT-3) to convert text to token IDs. Mathematically, the bias is added to the logits generated by the model prior to sampling. The exact effect will vary per model, but values between -1 and 1 should decrease or increase likelihood of selection; values like -100 or 100 should result in a ban or exclusive selection of the relevant token.\n",
    "\n",
    "As an example, you can pass {\"50256\": -100} to prevent the <|endoftext|> token from being generated.\n",
    "\n",
    "#### user (string) Optional\n",
    "A unique identifier representing your end-user, which can help OpenAI to monitor and detect abuse. Learn more."
   ]
  },
  {
   "cell_type": "markdown",
   "id": "48a6447b",
   "metadata": {},
   "source": [
    "# Temperature"
   ]
  },
  {
   "cell_type": "markdown",
   "id": "e0ee9253",
   "metadata": {},
   "source": [
    "Setting the API temperature to 0, or close to zero (such as 0.1 or 0.2) tends to give better results in most cases. Unlike GPT-3 models, where a higher temperature can provide useful creative and random results, higher temperatures with Codex models may give you really random or erratic responses."
   ]
  },
  {
   "cell_type": "markdown",
   "id": "b99359bf",
   "metadata": {},
   "source": [
    "### High Temperature example"
   ]
  },
  {
   "cell_type": "code",
   "execution_count": 35,
   "id": "73d51b01",
   "metadata": {},
   "outputs": [],
   "source": [
    "COMPLETIONS_MODEL = \"code-davinci-002\"\n",
    "prompt = \"# read a CSV file using PySpark and print the schema\\ndef \"\n",
    "\n",
    "# Set the parameter for the completions API call\n",
    "COMPLETIONS_API_PARAMS = {\n",
    "    \"engine\": COMPLETIONS_MODEL,\n",
    "    \"prompt\": prompt,\n",
    "    \"max_tokens\": 100,\n",
    "    \"temperature\": 1,\n",
    "    \"stop\": \"#\"\n",
    "}\n",
    "\n",
    "response = openai.Completion.create(\n",
    "                **COMPLETIONS_API_PARAMS\n",
    "            )"
   ]
  },
  {
   "cell_type": "code",
   "execution_count": 36,
   "id": "0554864c",
   "metadata": {},
   "outputs": [
    {
     "name": "stdout",
     "output_type": "stream",
     "text": [
      "Prompt:\n",
      "# read a CSV file using PySpark and print the schema\n",
      "def \n",
      "\n",
      "Response:\n",
      "read_and_print_schema():\n",
      "    df = spark.read.format(\"csv\")\\\n",
      "        .option(\"header\", \"true\")\\\n",
      "        .option(\"mode\", \"FAILFAST\")\\\n",
      "        .option(\"inferSchema\", \"true\")\\\n",
      "        .load(\"../data/Amazon_Unlocked_Mobile.csv\")\n",
      "    df.printSchema()\n",
      "    return df\n",
      "\n",
      "\n",
      "\n"
     ]
    }
   ],
   "source": [
    "print(\"Prompt:\\n\" + prompt + \"\\n\")\n",
    "print(\"Response:\\n\" + response[\"choices\"][0][\"text\"])"
   ]
  },
  {
   "cell_type": "markdown",
   "id": "ee7f6f81",
   "metadata": {},
   "source": [
    "### Low Temperature example"
   ]
  },
  {
   "cell_type": "code",
   "execution_count": 33,
   "id": "239cc90f",
   "metadata": {},
   "outputs": [],
   "source": [
    "COMPLETIONS_MODEL = \"code-davinci-002\"\n",
    "prompt = \"# read a CSV file using PySpark and print the schema\\ndef \"\n",
    "\n",
    "# Set the parameter for the completions API call\n",
    "COMPLETIONS_API_PARAMS = {\n",
    "    \"engine\": COMPLETIONS_MODEL,\n",
    "    \"prompt\": prompt,\n",
    "    \"max_tokens\": 100,\n",
    "    \"temperature\": 0,\n",
    "    \"stop\": \"#\"\n",
    "}\n",
    "\n",
    "response = openai.Completion.create(\n",
    "                **COMPLETIONS_API_PARAMS\n",
    "            )"
   ]
  },
  {
   "cell_type": "code",
   "execution_count": 34,
   "id": "6c5d96d4",
   "metadata": {},
   "outputs": [
    {
     "name": "stdout",
     "output_type": "stream",
     "text": [
      "Prompt:\n",
      "# read a CSV file using PySpark and print the schema\n",
      "def \n",
      "\n",
      "Response:\n",
      "read_csv_file(spark, file_name):\n",
      "    df = spark.read.csv(file_name, header=True, inferSchema=True)\n",
      "    df.printSchema()\n",
      "    return df\n",
      "\n",
      "\n"
     ]
    }
   ],
   "source": [
    "print(\"Prompt:\\n\" + prompt + \"\\n\")\n",
    "print(\"Response:\\n\" + response[\"choices\"][0][\"text\"])"
   ]
  },
  {
   "cell_type": "markdown",
   "id": "6b96102a",
   "metadata": {},
   "source": [
    "# Max Tokens and Stop"
   ]
  },
  {
   "cell_type": "markdown",
   "id": "9a79f9e0",
   "metadata": {},
   "source": [
    "Requesting longer completions in Codex can lead to imprecise answers and repetition. Limit the size of the query by reducing max_tokens and setting stop tokens."
   ]
  },
  {
   "cell_type": "markdown",
   "id": "6384cff6",
   "metadata": {},
   "source": [
    "### High max_tokens without stop example"
   ]
  },
  {
   "cell_type": "code",
   "execution_count": 4,
   "id": "8f35bd21",
   "metadata": {},
   "outputs": [],
   "source": [
    "COMPLETIONS_MODEL = \"code-davinci-002\"\n",
    "prompt = \"# read a CSV file using PySpark and print the schema\\ndef \"\n",
    "\n",
    "# Set the parameter for the completions API call\n",
    "COMPLETIONS_API_PARAMS = {\n",
    "    \"engine\": COMPLETIONS_MODEL,\n",
    "    \"prompt\": prompt,\n",
    "    \"max_tokens\": 2000,\n",
    "    \"temperature\": 0\n",
    "}\n",
    "\n",
    "response = openai.Completion.create(\n",
    "                **COMPLETIONS_API_PARAMS\n",
    "            )"
   ]
  },
  {
   "cell_type": "code",
   "execution_count": 5,
   "id": "8cca8e2f",
   "metadata": {},
   "outputs": [
    {
     "name": "stdout",
     "output_type": "stream",
     "text": [
      "Prompt:\n",
      "# read a CSV file using PySpark and print the schema\n",
      "def \n",
      "\n",
      "Response:\n",
      "read_csv_file(spark, file_name):\n",
      "    df = spark.read.csv(file_name, header=True, inferSchema=True)\n",
      "    df.printSchema()\n",
      "    return df\n",
      "\n",
      "# read a JSON file using PySpark and print the schema\n",
      "def read_json_file(spark, file_name):\n",
      "    df = spark.read.json(file_name)\n",
      "    df.printSchema()\n",
      "    return df\n",
      "\n",
      "# read a Parquet file using PySpark and print the schema\n",
      "def read_parquet_file(spark, file_name):\n",
      "    df = spark.read.parquet(file_name)\n",
      "    df.printSchema()\n",
      "    return df\n",
      "\n",
      "# read a ORC file using PySpark and print the schema\n",
      "def read_orc_file(spark, file_name):\n",
      "    df = spark.read.orc(file_name)\n",
      "    df.printSchema()\n",
      "    return df\n",
      "\n",
      "# read a Avro file using PySpark and print the schema\n",
      "def read_avro_file(spark, file_name):\n",
      "    df = spark.read.format(\"com.databricks.spark.avro\").load(file_name)\n",
      "    df.printSchema()\n",
      "    return df\n",
      "\n",
      "# read a file using PySpark and print the schema\n",
      "def read_file(spark, file_name, file_type):\n",
      "    if file_type == \"csv\":\n",
      "        return read_csv_file(spark, file_name)\n",
      "    elif file_type == \"json\":\n",
      "        return read_json_file(spark, file_name)\n",
      "    elif file_type == \"parquet\":\n",
      "        return read_parquet_file(spark, file_name)\n",
      "    elif file_type == \"orc\":\n",
      "        return read_orc_file(spark, file_name)\n",
      "    elif file_type == \"avro\":\n",
      "        return read_avro_file(spark, file_name)\n",
      "    else:\n",
      "        print(\"File type not supported\")\n",
      "        return None\n",
      "\n",
      "# write a CSV file using PySpark\n",
      "def write_csv_file(df, file_name):\n",
      "    df.write.csv(file_name, header=True)\n",
      "\n",
      "# write a JSON file using PySpark\n",
      "def write_json_file(df, file_name):\n",
      "    df.write.json(file_name)\n",
      "\n",
      "# write a Parquet file using PySpark\n",
      "def write_parquet_file(df, file_name):\n",
      "    df.write.parquet(file_name)\n",
      "\n",
      "# write a ORC file using PySpark\n",
      "def write_orc_file(df, file_name):\n",
      "    df.write.orc(file_name)\n",
      "\n",
      "# write a Avro file using PySpark\n",
      "def write_avro_file(df, file_name):\n",
      "    df.write.format(\"com.databricks.spark.avro\").save(file_name)\n",
      "\n",
      "# write a file using PySpark\n",
      "def write_file(df, file_name, file_type):\n",
      "    if file_type == \"csv\":\n",
      "        write_csv_file(df, file_name)\n",
      "    elif file_type == \"json\":\n",
      "        write_json_file(df, file_name)\n",
      "    elif file_type == \"parquet\":\n",
      "        write_parquet_file(df, file_name)\n",
      "    elif file_type == \"orc\":\n",
      "        write_orc_file(df, file_name)\n",
      "    elif file_type == \"avro\":\n",
      "        write_avro_file(df, file_name)\n",
      "    else:\n",
      "        print(\"File type not supported\")\n",
      "\n",
      "# main function\n",
      "def main():\n",
      "    # create an instance of SparkSession\n",
      "    spark = SparkSession.builder.appName(\"Read and Write Files\").getOrCreate()\n",
      "\n",
      "    # read a CSV file\n",
      "    df = read_file(spark, \"../data/sample.csv\", \"csv\")\n",
      "\n",
      "    # write a CSV file\n",
      "    write_file(df, \"../data/sample_csv\", \"csv\")\n",
      "\n",
      "    # read a JSON file\n",
      "    df = read_file(spark, \"../data/sample.json\", \"json\")\n",
      "\n",
      "    # write a JSON file\n",
      "    write_file(df, \"../data/sample_json\", \"json\")\n",
      "\n",
      "    # read a Parquet file\n",
      "    df = read_file(spark, \"../data/sample.parquet\", \"parquet\")\n",
      "\n",
      "    # write a Parquet file\n",
      "    write_file(df, \"../data/sample_parquet\", \"parquet\")\n",
      "\n",
      "    # read a ORC file\n",
      "    df = read_file(spark, \"../data/sample.orc\", \"orc\")\n",
      "\n",
      "    # write a ORC file\n",
      "    write_file(df, \"../data/sample_orc\", \"orc\")\n",
      "\n",
      "    # read a Avro file\n",
      "    df = read_file(spark, \"../data/sample.avro\", \"avro\")\n",
      "\n",
      "    # write a Avro file\n",
      "    write_file(df, \"../data/sample_avro\", \"avro\")\n",
      "\n",
      "    # stop the SparkSession\n",
      "    spark.stop()\n",
      "\n",
      "# entry point for PySpark application\n",
      "if __name__ == \"__main__\":\n",
      "    main()\n"
     ]
    }
   ],
   "source": [
    "print(\"Prompt:\\n\" + prompt + \"\\n\")\n",
    "print(\"Response:\\n\" + response[\"choices\"][0][\"text\"])"
   ]
  },
  {
   "cell_type": "markdown",
   "id": "4cbdb67e",
   "metadata": {},
   "source": [
    "### Low max_tokens without stop example"
   ]
  },
  {
   "cell_type": "code",
   "execution_count": 11,
   "id": "259f86f1",
   "metadata": {},
   "outputs": [],
   "source": [
    "COMPLETIONS_MODEL = \"code-davinci-002\"\n",
    "prompt = \"# read a CSV file using PySpark and print the schema\\ndef \"\n",
    "\n",
    "# Set the parameter for the completions API call\n",
    "COMPLETIONS_API_PARAMS = {\n",
    "    \"engine\": COMPLETIONS_MODEL,\n",
    "    \"prompt\": prompt,\n",
    "    \"max_tokens\": 200,\n",
    "    \"temperature\": 0,\n",
    "    \"stop\": \"\"\n",
    "}\n",
    "\n",
    "response = openai.Completion.create(\n",
    "                **COMPLETIONS_API_PARAMS\n",
    "            )"
   ]
  },
  {
   "cell_type": "code",
   "execution_count": 12,
   "id": "70dc6648",
   "metadata": {},
   "outputs": [
    {
     "name": "stdout",
     "output_type": "stream",
     "text": [
      "Prompt:\n",
      "# read a CSV file using PySpark and print the schema\n",
      "def \n",
      "\n",
      "Response:\n",
      "read_csv_file(spark, file_name):\n",
      "    df = spark.read.csv(file_name, header=True, inferSchema=True)\n",
      "    df.printSchema()\n",
      "    return df\n",
      "\n",
      "# read a JSON file using PySpark and print the schema\n",
      "def read_json_file(spark, file_name):\n",
      "    df = spark.read.json(file_name)\n",
      "    df.printSchema()\n",
      "    return df\n",
      "\n",
      "# read a Parquet file using PySpark and print the schema\n",
      "def read_parquet_file(spark, file_name):\n",
      "    df = spark.read.parquet(file_name)\n",
      "    df.printSchema()\n",
      "    return df\n",
      "\n",
      "# read a ORC file using PySpark and print the schema\n",
      "def read_orc_file(spark, file_name):\n",
      "    df = spark\n"
     ]
    }
   ],
   "source": [
    "print(\"Prompt:\\n\" + prompt + \"\\n\")\n",
    "print(\"Response:\\n\" + response[\"choices\"][0][\"text\"])"
   ]
  },
  {
   "cell_type": "markdown",
   "id": "5fb708b0",
   "metadata": {},
   "source": [
    "### Low max_tokens with custom stop \"#\" example"
   ]
  },
  {
   "cell_type": "code",
   "execution_count": 8,
   "id": "25d43b36",
   "metadata": {},
   "outputs": [],
   "source": [
    "COMPLETIONS_MODEL = \"code-davinci-002\"\n",
    "prompt = \"# read a CSV file using PySpark and print the schema\\ndef \"\n",
    "\n",
    "# Set the parameter for the completions API call\n",
    "COMPLETIONS_API_PARAMS = {\n",
    "    \"engine\": COMPLETIONS_MODEL,\n",
    "    \"prompt\": prompt,\n",
    "    \"max_tokens\": 200,\n",
    "    \"temperature\": 0,\n",
    "    \"stop\": \"#\"\n",
    "}\n",
    "\n",
    "response = openai.Completion.create(\n",
    "                **COMPLETIONS_API_PARAMS\n",
    "            )"
   ]
  },
  {
   "cell_type": "code",
   "execution_count": 9,
   "id": "42c042ba",
   "metadata": {},
   "outputs": [
    {
     "name": "stdout",
     "output_type": "stream",
     "text": [
      "Prompt:\n",
      "# read a CSV file using PySpark and print the schema\n",
      "def \n",
      "\n",
      "Response:\n",
      "read_csv_file(spark, file_name):\n",
      "    df = spark.read.csv(file_name, header=True, inferSchema=True)\n",
      "    df.printSchema()\n",
      "    return df\n",
      "\n",
      "\n"
     ]
    }
   ],
   "source": [
    "print(\"Prompt:\\n\" + prompt + \"\\n\")\n",
    "print(\"Response:\\n\" + response[\"choices\"][0][\"text\"])"
   ]
  },
  {
   "cell_type": "markdown",
   "id": "4363bb77",
   "metadata": {},
   "source": [
    "### Low max_tokens with custom stop \"\\n\" to limit response to one line example"
   ]
  },
  {
   "cell_type": "code",
   "execution_count": 10,
   "id": "76564be5",
   "metadata": {},
   "outputs": [],
   "source": [
    "COMPLETIONS_MODEL = \"code-davinci-002\"\n",
    "prompt = \"# read a CSV file using PySpark and print the schema\\ndef \"\n",
    "\n",
    "# Set the parameter for the completions API call\n",
    "COMPLETIONS_API_PARAMS = {\n",
    "    \"engine\": COMPLETIONS_MODEL,\n",
    "    \"prompt\": prompt,\n",
    "    \"max_tokens\": 200,\n",
    "    \"temperature\": 0,\n",
    "    \"stop\": \"\\n\"\n",
    "}\n",
    "\n",
    "response = openai.Completion.create(\n",
    "                **COMPLETIONS_API_PARAMS\n",
    "            )"
   ]
  },
  {
   "cell_type": "code",
   "execution_count": 11,
   "id": "252532ca",
   "metadata": {},
   "outputs": [
    {
     "name": "stdout",
     "output_type": "stream",
     "text": [
      "Prompt:\n",
      "# read a CSV file using PySpark and print the schema\n",
      "def \n",
      "\n",
      "Response:\n",
      "read_csv_file(spark, file_name):\n"
     ]
    }
   ],
   "source": [
    "print(\"Prompt:\\n\" + prompt + \"\\n\")\n",
    "print(\"Response:\\n\" + response[\"choices\"][0][\"text\"])"
   ]
  },
  {
   "cell_type": "markdown",
   "id": "a56b407d",
   "metadata": {},
   "source": [
    "# N"
   ]
  },
  {
   "cell_type": "markdown",
   "id": "873cb78c",
   "metadata": {},
   "source": [
    "It defines how many completitions to generate for each prompt.\n",
    "\n",
    "Keep N low as this will rapdily reduce your tokens quota.\n",
    "\n",
    "NB: temperature has to be greater than 0 to avoid identical generations"
   ]
  },
  {
   "cell_type": "code",
   "execution_count": 35,
   "id": "28168c77",
   "metadata": {},
   "outputs": [],
   "source": [
    "COMPLETIONS_MODEL = \"code-davinci-002\"\n",
    "prompt = \"# read a CSV file using PySpark and print the schema\\ndef \"\n",
    "\n",
    "n = 5\n",
    "\n",
    "# Set the parameter for the completions API call\n",
    "COMPLETIONS_API_PARAMS = {\n",
    "    \"engine\": COMPLETIONS_MODEL,\n",
    "    \"prompt\": prompt,\n",
    "    \"max_tokens\": 200,\n",
    "    \"temperature\": 0.2,\n",
    "    \"stop\": \"#\",\n",
    "    \"n\": n\n",
    "}\n",
    "\n",
    "response = openai.Completion.create(\n",
    "                **COMPLETIONS_API_PARAMS\n",
    "            )"
   ]
  },
  {
   "cell_type": "code",
   "execution_count": 36,
   "id": "f0ef8b5a",
   "metadata": {},
   "outputs": [
    {
     "name": "stdout",
     "output_type": "stream",
     "text": [
      "Prompt:\n",
      "# read a CSV file using PySpark and print the schema\n",
      "def \n",
      "\n",
      "Response:\n",
      "read_csv_file(spark, filename):\n",
      "    df = spark.read.csv(filename, header=True, inferSchema=True)\n",
      "    df.printSchema()\n",
      "    return df\n",
      "\n",
      "\n",
      "Response:\n",
      "read_csv(spark, filename):\n",
      "    df = spark.read.csv(filename, header=True, inferSchema=True)\n",
      "    df.printSchema()\n",
      "    return df\n",
      "\n",
      "\n",
      "Response:\n",
      "read_csv_file(filename):\n",
      "    df = spark.read.csv(filename, header=True, inferSchema=True)\n",
      "    df.printSchema()\n",
      "    return df\n",
      "\n",
      "\n",
      "Response:\n",
      "read_csv_file(file_name):\n",
      "    df = spark.read.csv(file_name, header=True, inferSchema=True)\n",
      "    df.printSchema()\n",
      "    return df\n",
      "\n",
      "\n",
      "Response:\n",
      "read_csv_file(spark, file_path):\n",
      "    df = spark.read.csv(file_path, header=True, inferSchema=True)\n",
      "    df.printSchema()\n",
      "    return df\n",
      "\n",
      "\n"
     ]
    }
   ],
   "source": [
    "print(\"Prompt:\\n\" + prompt + \"\\n\")\n",
    "\n",
    "for i in range(n):\n",
    "    print(\"Response:\\n\" + response[\"choices\"][i][\"text\"])"
   ]
  },
  {
   "cell_type": "markdown",
   "id": "2967c05f",
   "metadata": {},
   "source": [
    "# Explain code"
   ]
  },
  {
   "cell_type": "code",
   "execution_count": 6,
   "id": "01c777f2",
   "metadata": {},
   "outputs": [],
   "source": [
    "# Explain what the previous function is doing: It"
   ]
  },
  {
   "cell_type": "code",
   "execution_count": 7,
   "id": "9a917105",
   "metadata": {},
   "outputs": [],
   "source": [
    "COMPLETIONS_MODEL = \"code-davinci-002\"\n",
    "prompt = \"\"\"\n",
    "def construct_prompt(question, context_embeddings, df):\n",
    "    most_relevant_document_sections = order_document_sections_by_query_similarity(question, context_embeddings)\n",
    "    \n",
    "    chosen_sections = []\n",
    "    chosen_sections_len = 0\n",
    "    chosen_sections_indexes = []\n",
    "     \n",
    "    for _, section_index in most_relevant_document_sections:\n",
    "        document_section = df.loc[section_index]\n",
    "        \n",
    "        chosen_sections_len += document_section.tokens #+ separator_len\n",
    "        if chosen_sections_len > MAX_SECTION_LEN:\n",
    "            break\n",
    "            \n",
    "        chosen_sections.append(document_section.content.replace(\"\\n\", \" \"))\n",
    "        chosen_sections_indexes.append(str(section_index))\n",
    "            \n",
    "    print(f\"Selected {len(chosen_sections)} document sections:\")\n",
    "    print(\"\\n\".join(chosen_sections_indexes))\n",
    "    \n",
    "    header = \"If you don't get the info from the embeddings, just say 'I don't know'.\"\n",
    "    \n",
    "    return header + \"\".join(chosen_sections) + \"\\n\\n Q: \" + question\n",
    "\"\"\" + \"\\nExplain what the previous function is doing: It\"\n",
    "\n",
    "# Set the parameter for the completions API call\n",
    "COMPLETIONS_API_PARAMS = {\n",
    "    \"engine\": COMPLETIONS_MODEL,\n",
    "    \"prompt\": prompt,\n",
    "    \"max_tokens\": 200,\n",
    "    \"temperature\": 0.2,\n",
    "    \"stop\": \"\\n\"\n",
    "}\n",
    "\n",
    "response = openai.Completion.create(\n",
    "                **COMPLETIONS_API_PARAMS\n",
    "            )"
   ]
  },
  {
   "cell_type": "code",
   "execution_count": 8,
   "id": "401e3727",
   "metadata": {},
   "outputs": [
    {
     "name": "stdout",
     "output_type": "stream",
     "text": [
      "Prompt:\n",
      "\n",
      "def construct_prompt(question, context_embeddings, df):\n",
      "    most_relevant_document_sections = order_document_sections_by_query_similarity(question, context_embeddings)\n",
      "    \n",
      "    chosen_sections = []\n",
      "    chosen_sections_len = 0\n",
      "    chosen_sections_indexes = []\n",
      "     \n",
      "    for _, section_index in most_relevant_document_sections:\n",
      "        document_section = df.loc[section_index]\n",
      "        \n",
      "        chosen_sections_len += document_section.tokens #+ separator_len\n",
      "        if chosen_sections_len > MAX_SECTION_LEN:\n",
      "            break\n",
      "            \n",
      "        chosen_sections.append(document_section.content.replace(\"\n",
      "\", \" \"))\n",
      "        chosen_sections_indexes.append(str(section_index))\n",
      "            \n",
      "    print(f\"Selected {len(chosen_sections)} document sections:\")\n",
      "    print(\"\n",
      "\".join(chosen_sections_indexes))\n",
      "    \n",
      "    header = \"If you don't get the info from the embeddings, just say 'I don't know'.\"\n",
      "    \n",
      "    return header + \"\".join(chosen_sections) + \"\n",
      "\n",
      " Q: \" + question\n",
      "\n",
      "Explain what the previous function is doing: It\n",
      "\n",
      "Response:\n",
      "It takes the question and the embeddings and finds the most relevant sections of the document. It then constructs a prompt from those sections, and returns it.\n"
     ]
    }
   ],
   "source": [
    "print(\"Prompt:\\n\" + prompt + \"\\n\")\n",
    "print(\"Response:\\nIt\" + response[\"choices\"][0][\"text\"])"
   ]
  }
 ],
 "metadata": {
  "kernelspec": {
   "display_name": "Python 3 (ipykernel)",
   "language": "python",
   "name": "python3"
  },
  "language_info": {
   "codemirror_mode": {
    "name": "ipython",
    "version": 3
   },
   "file_extension": ".py",
   "mimetype": "text/x-python",
   "name": "python",
   "nbconvert_exporter": "python",
   "pygments_lexer": "ipython3",
   "version": "3.9.13"
  }
 },
 "nbformat": 4,
 "nbformat_minor": 5
}
